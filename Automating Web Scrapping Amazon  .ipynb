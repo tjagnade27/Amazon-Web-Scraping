{
 "cells": [
  {
   "cell_type": "code",
   "execution_count": 1,
   "id": "c0b67f6f",
   "metadata": {},
   "outputs": [
    {
     "name": "stdout",
     "output_type": "stream",
     "text": [
      "Requirement already satisfied: autoscraper in c:\\anaconda3\\lib\\site-packages (1.1.14)\n",
      "Requirement already satisfied: lxml in c:\\anaconda3\\lib\\site-packages (from autoscraper) (4.8.0)\n",
      "Requirement already satisfied: requests in c:\\anaconda3\\lib\\site-packages (from autoscraper) (2.27.1)\n",
      "Requirement already satisfied: bs4 in c:\\anaconda3\\lib\\site-packages (from autoscraper) (0.0.1)\n",
      "Requirement already satisfied: beautifulsoup4 in c:\\anaconda3\\lib\\site-packages (from bs4->autoscraper) (4.11.1)\n",
      "Requirement already satisfied: soupsieve>1.2 in c:\\anaconda3\\lib\\site-packages (from beautifulsoup4->bs4->autoscraper) (2.3.1)\n",
      "Requirement already satisfied: certifi>=2017.4.17 in c:\\anaconda3\\lib\\site-packages (from requests->autoscraper) (2021.10.8)\n",
      "Requirement already satisfied: idna<4,>=2.5 in c:\\anaconda3\\lib\\site-packages (from requests->autoscraper) (3.3)\n",
      "Requirement already satisfied: urllib3<1.27,>=1.21.1 in c:\\anaconda3\\lib\\site-packages (from requests->autoscraper) (1.26.9)\n",
      "Requirement already satisfied: charset-normalizer~=2.0.0 in c:\\anaconda3\\lib\\site-packages (from requests->autoscraper) (2.0.4)\n"
     ]
    }
   ],
   "source": [
    "# Installing Autoscraper\n",
    "\n",
    "!pip install autoscraper"
   ]
  },
  {
   "cell_type": "code",
   "execution_count": 5,
   "id": "6e746ade",
   "metadata": {},
   "outputs": [],
   "source": [
    "#Importing Libraries\n",
    "\n",
    "from autoscraper import AutoScraper as As"
   ]
  },
  {
   "cell_type": "code",
   "execution_count": 10,
   "id": "06a0303d",
   "metadata": {},
   "outputs": [],
   "source": [
    "# Connecting with url\n",
    "\n",
    "amazon_url='https://www.amazon.in/s?k=Iphone'\n",
    "\n",
    "wanted_list=[\"₹59,900 \",\"Apple iPhone 12 (128GB) - Blue\"]"
   ]
  },
  {
   "cell_type": "code",
   "execution_count": 11,
   "id": "51256cfb",
   "metadata": {},
   "outputs": [
    {
     "name": "stdout",
     "output_type": "stream",
     "text": [
      "['₹59,900', '₹64,900', '₹13,999', '₹24,999', '₹1,29,900', '₹62,999', '₹79,900', '₹1,39,900', '₹89,900', '₹77,490', '₹55,900', '₹65,900', '₹12,999', '₹69,900', '₹1,05,900', '₹1,19,900', '₹74,900', '₹87,490', '₹95,990', '₹99,900', 'Apple iPhone 12 (128GB) - Blue', 'Apple iPhone 5S 16GB Gold', 'Apple iPhone 14 Pro 128GB Space Black', 'Apple iPhone 13 (128GB) - Blue', 'Apple iPhone 14 Pro 256GB Space Black', 'Apple iPhone 14 Pro 128GB Gold', 'Apple iPhone 14 256GB Starlight', 'Apple iPhone 14 128GB (Product) RED', 'Apple iPhone 12 (64GB) - White', 'Apple 5S (Space Grey, 16GB) iPhone', 'Apple iPhone 13 (128GB) - Pink', 'Apple iPhone 13 Pro (128GB) - Graphite', 'Apple iPhone 14 Pro Max 128GB Space Black', 'Apple iPhone 13 Mini (256GB) - (Product) RED', 'Apple iPhone 14 256GB Midnight', 'Apple iPhone 14 Plus 256GB Blue']\n"
     ]
    }
   ],
   "source": [
    "# Building scraper\n",
    "\n",
    "scraper = As()\n",
    "result = scraper.build(amazon_url,wanted_list)\n",
    "print(result)"
   ]
  },
  {
   "cell_type": "code",
   "execution_count": 12,
   "id": "7fc5fc90",
   "metadata": {},
   "outputs": [
    {
     "data": {
      "text/plain": [
       "{'rule_bay4': ['₹59,900',\n",
       "  '₹64,900',\n",
       "  '₹13,999',\n",
       "  '₹24,999',\n",
       "  '₹1,29,900',\n",
       "  '₹62,999',\n",
       "  '₹79,900',\n",
       "  '₹1,39,900',\n",
       "  '₹1,29,900',\n",
       "  '₹89,900',\n",
       "  '₹77,490',\n",
       "  '₹79,900',\n",
       "  '₹55,900',\n",
       "  '₹65,900',\n",
       "  '₹12,999',\n",
       "  '₹24,999',\n",
       "  '₹69,900',\n",
       "  '₹79,900',\n",
       "  '₹1,05,900',\n",
       "  '₹1,19,900',\n",
       "  '₹1,39,900',\n",
       "  '₹65,900',\n",
       "  '₹74,900',\n",
       "  '₹87,490',\n",
       "  '₹89,900',\n",
       "  '₹95,990',\n",
       "  '₹99,900'],\n",
       " 'rule_rp9l': ['₹59,900',\n",
       "  '₹64,900',\n",
       "  '₹13,999',\n",
       "  '₹24,999',\n",
       "  '₹1,29,900',\n",
       "  '₹62,999',\n",
       "  '₹79,900',\n",
       "  '₹1,39,900',\n",
       "  '₹1,29,900',\n",
       "  '₹89,900',\n",
       "  '₹77,490',\n",
       "  '₹79,900',\n",
       "  '₹55,900',\n",
       "  '₹65,900',\n",
       "  '₹12,999',\n",
       "  '₹24,999',\n",
       "  '₹69,900',\n",
       "  '₹79,900',\n",
       "  '₹1,05,900',\n",
       "  '₹1,19,900',\n",
       "  '₹1,39,900',\n",
       "  '₹65,900',\n",
       "  '₹74,900',\n",
       "  '₹87,490',\n",
       "  '₹89,900',\n",
       "  '₹95,990',\n",
       "  '₹99,900'],\n",
       " 'rule_dx4y': ['₹59,900', '₹64,900', '₹69,900', '₹79,900'],\n",
       " 'rule_y2ye': ['₹59,900', '₹64,900', '₹69,900', '₹79,900'],\n",
       " 'rule_yn20': ['Apple iPhone 12 (128GB) - Blue',\n",
       "  'Apple iPhone 5S 16GB Gold',\n",
       "  'Apple iPhone 14 Pro 128GB Space Black',\n",
       "  'Apple iPhone 13 (128GB) - Blue',\n",
       "  'Apple iPhone 14 Pro 256GB Space Black',\n",
       "  'Apple iPhone 14 Pro 128GB Gold',\n",
       "  'Apple iPhone 14 256GB Starlight',\n",
       "  'Apple iPhone 14 128GB (Product) RED',\n",
       "  'Apple iPhone 12 (64GB) - White',\n",
       "  'Apple 5S (Space Grey, 16GB) iPhone',\n",
       "  'Apple iPhone 13 (128GB) - Pink',\n",
       "  'Apple iPhone 13 Pro (128GB) - Graphite',\n",
       "  'Apple iPhone 14 Pro Max 128GB Space Black',\n",
       "  'Apple iPhone 13 Mini (256GB) - (Product) RED',\n",
       "  'Apple iPhone 14 256GB Midnight',\n",
       "  'Apple iPhone 14 Plus 256GB Blue'],\n",
       " 'rule_zfg9': ['Apple iPhone 12 (128GB) - Blue',\n",
       "  'Apple iPhone 5S 16GB Gold',\n",
       "  'Apple iPhone 14 Pro 128GB Space Black',\n",
       "  'Apple iPhone 13 (128GB) - Blue',\n",
       "  'Apple iPhone 14 Pro 256GB Space Black',\n",
       "  'Apple iPhone 14 Pro 128GB Gold',\n",
       "  'Apple iPhone 14 256GB Starlight',\n",
       "  'Apple iPhone 14 128GB (Product) RED',\n",
       "  'Apple iPhone 12 (64GB) - White',\n",
       "  'Apple 5S (Space Grey, 16GB) iPhone',\n",
       "  'Apple iPhone 13 (128GB) - Pink',\n",
       "  'Apple iPhone 13 Pro (128GB) - Graphite',\n",
       "  'Apple iPhone 14 Pro Max 128GB Space Black',\n",
       "  'Apple iPhone 13 Mini (256GB) - (Product) RED',\n",
       "  'Apple iPhone 14 256GB Midnight',\n",
       "  'Apple iPhone 14 Plus 256GB Blue'],\n",
       " 'rule_g83w': ['Apple iPhone 12 (128GB) - Blue',\n",
       "  'Apple iPhone 13 (128GB) - Pink']}"
      ]
     },
     "execution_count": 12,
     "metadata": {},
     "output_type": "execute_result"
    }
   ],
   "source": [
    "# Grouping the Requirements\n",
    "# Iphone(Price,Title)\n",
    "scraper.get_result_similar(amazon_url,grouped=True)"
   ]
  },
  {
   "cell_type": "code",
   "execution_count": 15,
   "id": "f513fdeb",
   "metadata": {},
   "outputs": [],
   "source": [
    "#Assigning Key Values & Saving the rule for different products\n",
    "\n",
    "scraper.set_rule_aliases({'rule_yn20':'Title','rule_bay4':'Price'})\n",
    "scraper.keep_rules(['rule_yn20','rule_bay4'])\n",
    "scraper.save('amazon_search')"
   ]
  },
  {
   "cell_type": "code",
   "execution_count": 21,
   "id": "4e07e869",
   "metadata": {},
   "outputs": [
    {
     "data": {
      "text/plain": [
       "['Redmi A1 (Light Green, 2GB RAM 32GB ROM) | Segment Best AI Dual Cam | 5000mAh Battery | Leather Texture Design | Android 12',\n",
       " 'Redmi 9 Activ (Carbon Black, 4GB RAM, 64GB Storage) | Octa-core Helio G35 | 5000 mAh Battery',\n",
       " 'Redmi Note 11 (Space Black, 6GB RAM, 128GB Storage)|90Hz FHD+ AMOLED Display | Qualcomm® SnapdragonTM 680-6nm | 33W Charger Included',\n",
       " 'Redmi 10A (Charcoal Black, 4GB RAM, 64GB Storage) | 2 Ghz Octa Core Helio G25 | 5000 mAh Battery | Finger Print Sensor | Upto 5GB RAM with RAM Booster',\n",
       " 'Redmi 9A (Nature Green, 2GB RAM, 32GB Storage) | 2GHz Octa-core Helio G25 Processor | 5000 mAh Battery',\n",
       " 'Redmi Note 11 Pro + 5G (Stealth Black, 6GB RAM, 128GB Storage) | 67W Turbo Charge | 120Hz Super AMOLED Display | Additional Exchange Offers | Charger Included',\n",
       " 'Redmi Note 11 (Space Black, 4GB RAM, 64GB Storage)|90Hz FHD+ AMOLED Display | Qualcomm® SnapdragonTM 680-6nm | 33W Charger Included',\n",
       " 'MI REDMI 9i Sport (Coral Green, 64 GB) (4 GB RAM)',\n",
       " 'Redmi 9A (Nature Green, 3GB Ram, 32GB Storage) | 2GHz Octa-core Helio G25 Processor',\n",
       " 'Redmi Note 11T 5G (Matte Black, 6GB RAM, 128GB ROM)| Dimensity 810 5G | 33W Pro Fast Charging | Charger Included | Additional Exchange Offers|Get 2 Months of YouTube Premium Free!',\n",
       " 'Redmi Note 11 (Space Black, 6GB RAM, 64GB Storage) | 90Hz FHD+ AMOLED Display | Qualcomm® SnapdragonTM 680-6nm | 33W Charger Included',\n",
       " 'Redmi 9A (Midnight Black 2GB RAM 32GB Storage) | 2GHz Octa-core Helio G25 Processor | 5000 mAh Battery',\n",
       " 'Redmi 11 Prime 5G (Chrome Silver, 4GB RAM 64GB ROM) | Prime Design | MTK Dimensity 700 | 50 MP Dual Cam | 5000mAh | 7 Band 5G',\n",
       " 'Amazon\\'s Choicefor \"mi phone\"',\n",
       " 'Redmi 9A Sport (Carbon Black, 2GB RAM, 32GB Storage) | 2GHz Octa-core Helio G25 Processor | 5000 mAh Battery',\n",
       " 'Redmi 10A (Slate Grey, 4GB RAM, 64GB Storage) | 2 Ghz Octa Core Helio G25 | 5000 mAh Battery | Finger Print Sensor | Upto 5GB RAM with RAM Booster',\n",
       " 'Redmi 10 Power (Power Black, 8GB RAM, 128GB Storage)']"
      ]
     },
     "execution_count": 21,
     "metadata": {},
     "output_type": "execute_result"
    }
   ],
   "source": [
    "#Checking with different Keyword\n",
    "\n",
    "results=scraper.get_result_similar(\"https://www.amazon.in/s?k=mi+phone&crid=24TVL3HN81MX0&sprefix=mi+pho%2Caps%2C788&ref=nb_sb_noss_2\",group_by_alias=True)"
   ]
  },
  {
   "cell_type": "code",
   "execution_count": 30,
   "id": "79187e45",
   "metadata": {},
   "outputs": [
    {
     "data": {
      "text/plain": [
       "['Redmi A1 (Light Green, 2GB RAM 32GB ROM) | Segment Best AI Dual Cam | 5000mAh Battery | Leather Texture Design | Android 12',\n",
       " 'Redmi 9 Activ (Carbon Black, 4GB RAM, 64GB Storage) | Octa-core Helio G35 | 5000 mAh Battery',\n",
       " 'Redmi Note 11 (Space Black, 6GB RAM, 128GB Storage)|90Hz FHD+ AMOLED Display | Qualcomm® SnapdragonTM 680-6nm | 33W Charger Included',\n",
       " 'Redmi 10A (Charcoal Black, 4GB RAM, 64GB Storage) | 2 Ghz Octa Core Helio G25 | 5000 mAh Battery | Finger Print Sensor | Upto 5GB RAM with RAM Booster',\n",
       " 'Redmi 9A (Nature Green, 2GB RAM, 32GB Storage) | 2GHz Octa-core Helio G25 Processor | 5000 mAh Battery',\n",
       " 'Redmi Note 11 Pro + 5G (Stealth Black, 6GB RAM, 128GB Storage) | 67W Turbo Charge | 120Hz Super AMOLED Display | Additional Exchange Offers | Charger Included',\n",
       " 'Redmi Note 11 (Space Black, 4GB RAM, 64GB Storage)|90Hz FHD+ AMOLED Display | Qualcomm® SnapdragonTM 680-6nm | 33W Charger Included',\n",
       " 'MI REDMI 9i Sport (Coral Green, 64 GB) (4 GB RAM)',\n",
       " 'Redmi 9A (Nature Green, 3GB Ram, 32GB Storage) | 2GHz Octa-core Helio G25 Processor',\n",
       " 'Redmi Note 11T 5G (Matte Black, 6GB RAM, 128GB ROM)| Dimensity 810 5G | 33W Pro Fast Charging | Charger Included | Additional Exchange Offers|Get 2 Months of YouTube Premium Free!',\n",
       " 'Redmi Note 11 (Space Black, 6GB RAM, 64GB Storage) | 90Hz FHD+ AMOLED Display | Qualcomm® SnapdragonTM 680-6nm | 33W Charger Included',\n",
       " 'Redmi 9A (Midnight Black 2GB RAM 32GB Storage) | 2GHz Octa-core Helio G25 Processor | 5000 mAh Battery',\n",
       " 'Redmi 11 Prime 5G (Chrome Silver, 4GB RAM 64GB ROM) | Prime Design | MTK Dimensity 700 | 50 MP Dual Cam | 5000mAh | 7 Band 5G',\n",
       " 'Amazon\\'s Choicefor \"mi phone\"',\n",
       " 'Redmi 9A Sport (Carbon Black, 2GB RAM, 32GB Storage) | 2GHz Octa-core Helio G25 Processor | 5000 mAh Battery',\n",
       " 'Redmi 10A (Slate Grey, 4GB RAM, 64GB Storage) | 2 Ghz Octa Core Helio G25 | 5000 mAh Battery | Finger Print Sensor | Upto 5GB RAM with RAM Booster',\n",
       " 'Redmi 10 Power (Power Black, 8GB RAM, 128GB Storage)']"
      ]
     },
     "execution_count": 30,
     "metadata": {},
     "output_type": "execute_result"
    }
   ],
   "source": [
    "# Mi Phones Title\n",
    "\n",
    "results['Title']"
   ]
  },
  {
   "cell_type": "code",
   "execution_count": 20,
   "id": "c79e426c",
   "metadata": {},
   "outputs": [
    {
     "data": {
      "text/plain": [
       "['₹6,499',\n",
       " '₹8,999',\n",
       " '₹8,499',\n",
       " '₹10,999',\n",
       " '₹14,499',\n",
       " '₹19,999',\n",
       " '₹8,999',\n",
       " '₹11,999',\n",
       " '₹7,290',\n",
       " '₹7,999',\n",
       " '₹19,999',\n",
       " '₹24,999',\n",
       " '₹12,999',\n",
       " '₹17,999',\n",
       " '₹7,894',\n",
       " '₹9,999',\n",
       " '₹7,850',\n",
       " '₹9,499',\n",
       " '₹17,999',\n",
       " '₹20,999',\n",
       " '₹13,499',\n",
       " '₹18,999',\n",
       " '₹7,280',\n",
       " '₹8,499',\n",
       " '₹13,999',\n",
       " '₹15,999',\n",
       " '₹6,499',\n",
       " '₹7,999',\n",
       " '₹8,999',\n",
       " '₹11,999',\n",
       " '₹12,499',\n",
       " '₹18,999']"
      ]
     },
     "execution_count": 20,
     "metadata": {},
     "output_type": "execute_result"
    }
   ],
   "source": [
    "# Mi Phones Prices\n",
    "\n",
    "results['Price']"
   ]
  }
 ],
 "metadata": {
  "kernelspec": {
   "display_name": "Python 3 (ipykernel)",
   "language": "python",
   "name": "python3"
  },
  "language_info": {
   "codemirror_mode": {
    "name": "ipython",
    "version": 3
   },
   "file_extension": ".py",
   "mimetype": "text/x-python",
   "name": "python",
   "nbconvert_exporter": "python",
   "pygments_lexer": "ipython3",
   "version": "3.9.12"
  }
 },
 "nbformat": 4,
 "nbformat_minor": 5
}
